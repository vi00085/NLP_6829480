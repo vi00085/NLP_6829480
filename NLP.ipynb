{
 "cells": [
  {
   "cell_type": "code",
   "id": "d9fdd494-9113-40a8-8b26-c687e3683ab2",
   "metadata": {
    "ExecuteTime": {
     "end_time": "2024-05-24T10:16:40.173150Z",
     "start_time": "2024-05-24T10:16:40.116773Z"
    }
   },
   "source": [
    "# Calling the server end point for testing using  jupiter notebook\n",
    " \n",
    "import requests\n",
    "\n",
    "def get_predictions(text, url='http://0.0.0.0:5001/predict'):\n",
    "   \n",
    "    payload = {'text': text}\n",
    "\n",
    " \n",
    "    response = requests.post(url, json=payload)\n",
    "\n",
    "   \n",
    "    if response.status_code == 200:\n",
    "     \n",
    "        data = response.json()\n",
    "        return data\n",
    "    else:\n",
    "     \n",
    "        print(f\"Request failed with status code {response.status_code}\")\n",
    "        print(f\"Error message: {response.text}\")\n",
    "        return None\n",
    "\n",
    "\n",
    "text = (\n",
    "    \"UOS = University of surrey is a great college to study\"\n",
    ")\n",
    "\n",
    "predictions = get_predictions(text)\n",
    "print(predictions)\n"
   ],
   "outputs": [
    {
     "name": "stdout",
     "output_type": "stream",
     "text": [
      "{'predictions': [{'UOS': 'B-AC'}, {'=': 'B-O'}, {'University': 'B-LF'}, {'of': 'I-LF'}, {'surrey': 'I-LF'}, {'is': 'B-O'}, {'a': 'B-O'}, {'great': 'B-O'}, {'college': 'B-O'}, {'to': 'B-O'}, {'study': 'B-O'}]}\n"
     ]
    }
   ],
   "execution_count": 2
  },
  {
   "cell_type": "code",
   "id": "65a9931c-6cf9-43ff-96ea-fb164e205410",
   "metadata": {},
   "source": [
    "#Another way of stress testing\n",
    "import requests\n",
    "import concurrent.futures\n",
    "import time\n",
    "\n",
    "def send_request(text, url='http://0.0.0.0:5001/predict'):\n",
    "    payload = {'text': text}\n",
    "    response = requests.post(url, json=payload)\n",
    "    return response.status_code, response.elapsed.total_seconds()\n",
    "\n",
    "def stress_test(text, num_requests, url='http://0.0.0.0:5001/predict'):\n",
    "    start_time = time.time()\n",
    "    with concurrent.futures.ThreadPoolExecutor(max_workers=50) as executor:\n",
    "        futures = [executor.submit(send_request, text, url) for _ in range(num_requests)]\n",
    "        results = [future.result() for future in concurrent.futures.as_completed(futures)]\n",
    "    end_time = time.time()\n",
    "    \n",
    "    total_time = end_time - start_time\n",
    "    successful_requests = sum(1 for status, _ in results if status == 200)\n",
    "    failed_requests = num_requests - successful_requests\n",
    "    avg_response_time = sum(time for _, time in results) / num_requests\n",
    "\n",
    "    print(f\"Total requests: {num_requests}\")\n",
    "    print(f\"Successful requests: {successful_requests}\")\n",
    "    print(f\"Failed requests: {failed_requests}\")\n",
    "    print(f\"Total time taken: {total_time:.2f} seconds\")\n",
    "    print(f\"Average response time: {avg_response_time:.2f} seconds\")\n",
    "\n",
    "text = (\n",
    "    \"NLP, which stands for Natural Language Processing, is a field of AI. \"\n",
    ")\n",
    "\n",
    "num_requests = 1000  \n",
    "stress_test(text, num_requests)\n"
   ],
   "outputs": [],
   "execution_count": null
  },
  {
   "cell_type": "code",
   "id": "9e206f26-1489-4a58-ba4a-ca903c659e77",
   "metadata": {
    "ExecuteTime": {
     "end_time": "2024-05-23T22:18:17.507403Z",
     "start_time": "2024-05-23T22:18:17.505629Z"
    }
   },
   "source": [],
   "outputs": [],
   "execution_count": 4
  }
 ],
 "metadata": {
  "kernelspec": {
   "display_name": "Python 3 (ipykernel)",
   "language": "python",
   "name": "python3"
  },
  "language_info": {
   "codemirror_mode": {
    "name": "ipython",
    "version": 3
   },
   "file_extension": ".py",
   "mimetype": "text/x-python",
   "name": "python",
   "nbconvert_exporter": "python",
   "pygments_lexer": "ipython3",
   "version": "3.12.3"
  }
 },
 "nbformat": 4,
 "nbformat_minor": 5
}
