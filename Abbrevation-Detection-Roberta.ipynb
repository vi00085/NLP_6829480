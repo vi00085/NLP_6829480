{
 "cells": [
  {
   "cell_type": "markdown",
   "id": "5d9f7eca-dc5c-4642-96c1-a186ae66fb98",
   "metadata": {},
   "source": [
    "# EXPERIMENT 4: EXTRACTING ADDITONAL TRAIN/VALIDATE DATASET FROM PLOD-FILTERED\n",
    "- **System 1:** Train solely on PLOD-CW\n",
    "- **System 2:** Additional 1% of data from PLOD-Filtered combined with PLOD-CW.\n",
    "- **System 3:** Additional 5% of data from PLOD-Filtered combined with PLOD-CW."
   ]
  },
  {
   "cell_type": "markdown",
   "id": "44e4405e-ad2c-4a5c-962f-3a9782281ad1",
   "metadata": {},
   "source": [
    "## Imports "
   ]
  },
  {
   "cell_type": "code",
   "execution_count": 21,
   "id": "214e4ff3-d917-47c5-9927-45f8d6938bbc",
   "metadata": {},
   "outputs": [],
   "source": [
    "import nltk\n",
    "import torch\n",
    "import wandb\n",
    "import multiprocessing\n",
    "import seaborn as sns\n",
    "import pandas as pd\n",
    "import matplotlib.pyplot as plt\n",
    "from datasets import load_dataset, load_metric, concatenate_datasets, Sequence, Value\n",
    "from sklearn.metrics import confusion_matrix, f1_score\n",
    "from sklearn.preprocessing import LabelEncoder\n",
    "from seqeval.metrics import precision_score, recall_score, f1_score, classification_report\n",
    "from transformers import (\n",
    "    AutoModel,\n",
    "    AutoModelForTokenClassification,\n",
    "    RobertaTokenizerFast,\n",
    "    RobertaForTokenClassification,\n",
    "    EarlyStoppingCallback,\n",
    "    TrainingArguments,\n",
    "    Trainer,\n",
    "    DataCollatorForTokenClassification,\n",
    ")\n",
    "from transformers.trainer_utils import EvalPrediction\n",
    "from torch.utils.data import DataLoader, TensorDataset\n",
    "from tqdm.notebook import tqdm\n",
    "from collections import Counter\n",
    "import numpy as np\n",
    "import random\n",
    "import warnings\n",
    "import torch\n",
    "import torch.nn as nn\n",
    "import torch.nn.functional as F\n",
    "from IPython.display import display, HTML\n",
    "from seqeval.metrics import classification_report as seqeval_classification_report\n",
    "\n",
    "# Ignore FutureWarnings\n",
    "warnings.filterwarnings(\"ignore\", category=FutureWarning)\n"
   ]
  },
  {
   "cell_type": "markdown",
   "id": "d21b7822-bf2f-452d-99aa-3b0a67906f51",
   "metadata": {},
   "source": [
    "## Load the Datasets\n",
    "Here we load both the dataset, PLOD-CW and PLOD-Filtered"
   ]
  },
  {
   "cell_type": "code",
   "execution_count": 22,
   "id": "a5c9651d-8a25-40ae-9233-70cc99f6850b",
   "metadata": {},
   "outputs": [],
   "source": [
    "plod_filtered = load_dataset(\"surrey-nlp/PLOD-Filtered\")"
   ]
  },
  {
   "cell_type": "code",
   "execution_count": 23,
   "id": "a19b5cde-41f9-4b61-b94c-ae13a74bc2c4",
   "metadata": {},
   "outputs": [],
   "source": [
    "plod_cw = load_dataset(\"surrey-nlp/PLOD-CW\")"
   ]
  },
  {
   "cell_type": "markdown",
   "id": "06040e7d-5746-48d7-b9b7-f8f2b39064cd",
   "metadata": {},
   "source": [
    "We notice the PLOD-Filtered pos_tags and ner_tags are encoded. For concatenating both the datasets we need to convert one dataset to match the other. \n",
    "After studying the dataset, we can interpret the 'ner_tags' as follows:\n",
    "- B-O (0): Tokens that are not part of an abbreviation or long-form.\n",
    "- B-AC (1): Tokens that mark the beginning of an abbreviation/acronym.\n",
    "- B-LF (3): Tokens that mark the beginning of a long form.\n",
    "- I-LF (4): Tokens that are inside  a long form.\n",
    "\n",
    "We notice the dataset doesn't contain 2 which basically is:\n",
    "- I-AC (2): Tokens that are inside an abbreviation/acronym\n",
    "\n",
    "Keeping this in mind we'll convert the 'pos_tags' and 'ner_tags' in our PLOD-CW accordinly."
   ]
  },
  {
   "cell_type": "markdown",
   "id": "28b3ce09-4b0d-431a-980d-da194898263b",
   "metadata": {},
   "source": [
    "## Encoding POS tags and NER tags"
   ]
  },
  {
   "cell_type": "markdown",
   "id": "7a876e40-48fc-492d-8c80-560e0f76f7b7",
   "metadata": {},
   "source": [
    "### Encoding POS Tags"
   ]
  },
  {
   "cell_type": "code",
   "execution_count": 29,
   "id": "52c52aa6-2ff7-430b-9095-e88c03006501",
   "metadata": {},
   "outputs": [],
   "source": [
    "# Create a label encoder\n",
    "label_encoder = LabelEncoder()\n",
    "all_pos_tags = [tag for sublist in plod_cw['train']['pos_tags'] for tag in sublist]\n",
    "\n",
    "# Fit the label encoder on the 'pos_tags' feature of the training dataset\n",
    "label_encoder.fit(all_pos_tags)\n",
    "\n",
    "# Define a function to label encode the 'pos_tags' feature\n",
    "def label_encode(example):\n",
    "    example['pos_tags'] = label_encoder.transform(example['pos_tags'])\n",
    "    return example\n",
    "\n",
    "# Map the label encoding function to all datasets and splits\n",
    "for split in ['train', 'validation', 'test']:\n",
    "    plod_cw[split] = plod_cw[split].map(label_encode)"
   ]
  },
  {
   "cell_type": "markdown",
   "id": "abcfb884-b77f-45fb-90d8-99e4cc09a58e",
   "metadata": {},
   "source": [
    "### Encoding NER Tags"
   ]
  },
  {
   "cell_type": "code",
   "execution_count": 30,
   "id": "f9934360-0f7d-49cf-bb37-042c4823c211",
   "metadata": {},
   "outputs": [],
   "source": [
    "label_encoding = {\"B-O\": 0, \"B-AC\": 1, \"I-AC\": 2, \"B-LF\": 3, \"I-LF\": 4} # Dictionary for label encoding\n",
    "index_to_label = {index: label for label, index in label_encoding.items()}\n",
    "label_list = list(label_encoding.keys())\n",
    "\n",
    "# Function to convert IDs to labels\n",
    "def convert_ids_to_labels(dataset):\n",
    "    return {'ner_tags': [index_to_label[tag] for tag in dataset['ner_tags']]}\n",
    "\n",
    "def convert_labels_to_ids(dataset):\n",
    "    return {'ner_tags': [label_encoding[tag] for tag in dataset['ner_tags']]}\n",
    "\n",
    "# Convert ner_tags feature in plod_cw to their ids\n",
    "plod_filtered = plod_filtered.map(convert_ids_to_labels)"
   ]
  },
  {
   "cell_type": "code",
   "execution_count": 31,
   "id": "881c298f-70f8-4bf0-a72a-697e79ff908c",
   "metadata": {},
   "outputs": [
    {
     "data": {
      "text/html": [
       "<table border=\"1\" class=\"dataframe\">\n",
       "  <thead>\n",
       "    <tr style=\"text-align: right;\">\n",
       "      <th></th>\n",
       "      <th>tokens</th>\n",
       "      <th>ner_tags</th>\n",
       "      <th>id</th>\n",
       "      <th>pos_tags</th>\n",
       "    </tr>\n",
       "  </thead>\n",
       "  <tbody>\n",
       "    <tr>\n",
       "      <th>0</th>\n",
       "      <td>[CDS, :, clinical, disease, score, ;, CLP, :, caecal, ligation, and, puncture, ;, GC, :, geometric, center, ;, %, GE, :, percentage, of, gastric, emptying, ;, GI, :, gastrointestinal, .]</td>\n",
       "      <td>[B-AC, B-O, B-LF, I-LF, I-LF, B-O, B-AC, B-O, B-LF, I-LF, I-LF, I-LF, B-O, B-AC, B-O, B-LF, I-LF, B-O, B-O, B-O, B-O, B-O, B-O, B-O, B-O, B-O, B-AC, B-O, B-LF, B-O]</td>\n",
       "      <td>48903</td>\n",
       "      <td>[12, 13, 0, 8, 8, 13, 12, 13, 0, 8, 5, 8, 13, 12, 13, 0, 8, 13, 8, 8, 13, 8, 1, 0, 8, 13, 12, 13, 0, 13]</td>\n",
       "    </tr>\n",
       "    <tr>\n",
       "      <th>1</th>\n",
       "      <td>[SMO-1, can, bind, to, typical, SUMO, Interacting, Motifs, (, SIMs, ), .]</td>\n",
       "      <td>[B-O, B-O, B-O, B-O, B-O, B-LF, I-LF, I-LF, B-O, B-AC, B-O, B-O]</td>\n",
       "      <td>34257</td>\n",
       "      <td>[8, 3, 16, 1, 0, 12, 16, 8, 13, 12, 13, 13]</td>\n",
       "    </tr>\n",
       "    <tr>\n",
       "      <th>2</th>\n",
       "      <td>[Mobile, health, (, mHealth, ), interventions, are, increasingly, deployed, to, facilitate, engagement, in, care, ,, retention, ,, and, adherence, to, treatment, in, HIV, programs, ., mHealth, systems, are, attractive, as, they, extend, the, reach, of, the, clinic, ,, have, efficiencies, that, can, support, overextended, healthcare, workers, ,, and, can, be, implemented, at, relatively, low, cost, .]</td>\n",
       "      <td>[B-LF, I-LF, B-O, B-AC, B-O, B-O, B-O, B-O, B-O, B-O, B-O, B-O, B-O, B-O, B-O, B-O, B-O, B-O, B-O, B-O, B-O, B-O, B-O, B-O, B-O, B-AC, B-O, B-O, B-O, B-O, B-O, B-O, B-O, B-O, B-O, B-O, B-O, B-O, B-O, B-O, B-O, B-O, B-O, B-O, B-O, B-O, B-O, B-O, B-O, B-O, B-O, B-O, B-O, B-O, B-O, B-O]</td>\n",
       "      <td>89292</td>\n",
       "      <td>[8, 8, 13, 12, 13, 8, 3, 2, 16, 1, 16, 8, 1, 8, 13, 8, 13, 5, 8, 1, 8, 1, 12, 8, 13, 12, 8, 3, 0, 14, 11, 16, 6, 8, 1, 6, 8, 13, 16, 8, 11, 3, 16, 0, 8, 8, 13, 5, 3, 3, 16, 1, 2, 0, 8, 13]</td>\n",
       "    </tr>\n",
       "    <tr>\n",
       "      <th>3</th>\n",
       "      <td>[Patients, diagnosed, with, bacterial, meningitis, displayed, significantly, elevated, soluble, B7, -, H3, (, sB7-H3, ), in, the, circulation, and, cerebrospinal, fluid, (, CSF, ), ,, and, levels, of, sB7, in, these, patients, correlated, closely, with, the, intensity, of, their, infectious, inflammatory, process, in, the, -H3CNS, [, 22, ], .]</td>\n",
       "      <td>[B-O, B-O, B-O, B-O, B-O, B-O, B-O, B-O, B-O, B-O, B-O, B-O, B-O, B-AC, B-O, B-O, B-O, B-O, B-O, B-LF, I-LF, B-O, B-AC, B-O, B-O, B-O, B-O, B-O, B-AC, B-O, B-O, B-O, B-O, B-O, B-O, B-O, B-O, B-O, B-O, B-O, B-O, B-O, B-O, B-O, B-AC, B-O, B-O, B-O, B-O]</td>\n",
       "      <td>1452</td>\n",
       "      <td>[8, 16, 1, 0, 8, 16, 2, 16, 0, 8, 13, 8, 13, 12, 13, 1, 6, 8, 5, 0, 8, 13, 12, 13, 13, 5, 8, 1, 12, 1, 6, 8, 16, 2, 1, 6, 8, 1, 11, 0, 0, 8, 1, 6, 12, 13, 9, 13, 13]</td>\n",
       "    </tr>\n",
       "    <tr>\n",
       "      <th>4</th>\n",
       "      <td>[In, this, secondary, screen, ,, we, found, fat, body, -, specific, knock, -, down, of, purple, (, pr, ), also, enhances, feeding, in, adult, flies, .]</td>\n",
       "      <td>[B-O, B-O, B-O, B-O, B-O, B-O, B-O, B-O, B-O, B-O, B-O, B-O, B-O, B-O, B-O, B-LF, B-O, B-AC, B-O, B-O, B-O, B-O, B-O, B-O, B-O, B-O]</td>\n",
       "      <td>37042</td>\n",
       "      <td>[1, 6, 0, 8, 13, 11, 16, 0, 8, 13, 0, 8, 13, 8, 1, 8, 13, 12, 13, 2, 16, 8, 1, 0, 8, 13]</td>\n",
       "    </tr>\n",
       "  </tbody>\n",
       "</table>"
      ],
      "text/plain": [
       "<IPython.core.display.HTML object>"
      ]
     },
     "metadata": {},
     "output_type": "display_data"
    }
   ],
   "source": [
    "display_random_rows(plod_filtered['train'])"
   ]
  },
  {
   "cell_type": "markdown",
   "id": "39f23e99-c47a-4fd7-8e8a-4c0a3a018cbf",
   "metadata": {},
   "source": [
    "### Checking Feature Alignment"
   ]
  },
  {
   "cell_type": "code",
   "execution_count": 32,
   "id": "189f48b5-4582-401b-ad44-a9cb4d0b4f61",
   "metadata": {},
   "outputs": [
    {
     "name": "stdout",
     "output_type": "stream",
     "text": [
      "Features of plod_cw['train'] dataset:\n",
      "{'tokens': Sequence(feature=Value(dtype='string', id=None), length=-1, id=None), 'pos_tags': Sequence(feature=Value(dtype='int32', id=None), length=-1, id=None), 'ner_tags': Sequence(feature=Value(dtype='string', id=None), length=-1, id=None)}\n",
      "\n",
      "Features of plod_filtered['train'] dataset:\n",
      "{'tokens': Sequence(feature=Value(dtype='string', id=None), length=-1, id=None), 'ner_tags': Sequence(feature=Value(dtype='string', id=None), length=-1, id=None), 'id': Value(dtype='string', id=None), 'pos_tags': Sequence(feature=Value(dtype='int64', id=None), length=-1, id=None)}\n"
     ]
    }
   ],
   "source": [
    "# Check the types of features in the plod_cw['train'] dataset\n",
    "print(\"Features of plod_cw['train'] dataset:\")\n",
    "print(plod_cw['train'].features)\n",
    "\n",
    "# Check the types of features in the train_subset dataset\n",
    "print(\"\\nFeatures of plod_filtered['train'] dataset:\")\n",
    "print(plod_filtered['train'].features)\n"
   ]
  },
  {
   "cell_type": "code",
   "execution_count": 33,
   "id": "2342a958-66ec-49ca-b22b-696dfff7f0b3",
   "metadata": {},
   "outputs": [],
   "source": [
    "# Modify the feature type for pos_tags to int64 in PLOD-CW datasets\n",
    "new_feature = Sequence(feature=Value(dtype='int64'))\n",
    "\n",
    "# Cast the pos_tags column to the new feature type\n",
    "plod_cw = plod_cw.cast_column('pos_tags', new_feature)"
   ]
  },
  {
   "cell_type": "code",
   "execution_count": 34,
   "id": "e0fd2f3c-e21f-44da-abee-5490c50fec76",
   "metadata": {},
   "outputs": [
    {
     "data": {
      "text/html": [
       "<table border=\"1\" class=\"dataframe\">\n",
       "  <thead>\n",
       "    <tr style=\"text-align: right;\">\n",
       "      <th></th>\n",
       "      <th>tokens</th>\n",
       "      <th>pos_tags</th>\n",
       "      <th>ner_tags</th>\n",
       "    </tr>\n",
       "  </thead>\n",
       "  <tbody>\n",
       "    <tr>\n",
       "      <th>0</th>\n",
       "      <td>[Mice, that, need, to, be, perfused, with, PBS, and/or, 4, %, paraformaldehyde, (, PFA, ), prior, to, tissue, harvest, were, anesthetized, with, a, combination, of, ketamine, (, 20, mg, /, kg, body, weight, ), and, xylazine, (, 2, mg, /, kg, body, weight, ), .]</td>\n",
       "      <td>[7, 10, 15, 1, 3, 15, 1, 11, 4, 8, 7, 7, 12, 11, 12, 2, 1, 7, 7, 3, 15, 1, 5, 7, 1, 7, 12, 8, 7, 14, 7, 7, 7, 12, 4, 7, 12, 8, 7, 14, 7, 7, 7, 12, 12]</td>\n",
       "      <td>[B-O, B-O, B-O, B-O, B-O, B-O, B-O, B-AC, B-O, B-O, B-O, B-LF, B-O, B-AC, B-O, B-O, B-O, B-O, B-O, B-O, B-O, B-O, B-O, B-O, B-O, B-O, B-O, B-O, B-O, B-O, B-O, B-O, B-O, B-O, B-O, B-O, B-O, B-O, B-O, B-O, B-O, B-O, B-O, B-O, B-O]</td>\n",
       "    </tr>\n",
       "    <tr>\n",
       "      <th>1</th>\n",
       "      <td>[This, indicates, that, a, Chromosome, 4, bivalent, experiences, on, average, 1.76, CO, in, male, meiosis, ,, but, only, 1.05, CO, in, female, meiosis, (, M, /, F, ratio, 1.68, ), .]</td>\n",
       "      <td>[10, 15, 13, 5, 7, 8, 0, 15, 1, 0, 8, 11, 1, 0, 7, 12, 4, 2, 8, 11, 1, 0, 7, 12, 11, 14, 11, 7, 8, 12, 12]</td>\n",
       "      <td>[B-O, B-O, B-O, B-O, B-O, B-O, B-O, B-O, B-O, B-O, B-O, B-AC, B-O, B-LF, B-O, B-O, B-O, B-O, B-O, B-AC, B-O, B-LF, B-O, B-O, B-AC, B-O, B-AC, B-O, B-O, B-O, B-O]</td>\n",
       "    </tr>\n",
       "    <tr>\n",
       "      <th>2</th>\n",
       "      <td>[Within, the, first, week, after, surgery, ,, 7.7, ±, 0.6, %, of, dendritic, spines, were, eliminated, and, 8.1, ±, 0.5, %, were, formed, in, sham, mice, ,, whereas, 11.4, ±, 1.1, %, and, 11.9, ±, 1.1, %, of, dendritic, spines, were, eliminated, and, formed, in, SNI, mice, ,, respectively, .]</td>\n",
       "      <td>[1, 5, 0, 7, 1, 7, 12, 8, 14, 8, 7, 1, 0, 7, 3, 15, 4, 8, 14, 8, 7, 3, 15, 1, 0, 7, 12, 13, 8, 14, 8, 7, 4, 8, 14, 8, 7, 1, 0, 7, 3, 15, 4, 15, 1, 11, 7, 12, 2, 12]</td>\n",
       "      <td>[B-O, B-O, B-O, B-O, B-O, B-O, B-O, B-O, B-O, B-O, B-O, B-O, B-O, B-O, B-O, B-O, B-O, B-O, B-O, B-O, B-O, B-O, B-O, B-O, B-O, B-O, B-O, B-O, B-O, B-O, B-O, B-O, B-O, B-O, B-O, B-O, B-O, B-O, B-O, B-O, B-O, B-O, B-O, B-O, B-O, B-AC, B-O, B-O, B-O, B-O]</td>\n",
       "    </tr>\n",
       "    <tr>\n",
       "      <th>3</th>\n",
       "      <td>[IQR, :, interquartile, range, Similarly, ,, assessment, of, other, quantitative, variables, is, essential, in, pre-, and, post, -, MI, conditions, which, primarily, includes, ,, plasma, glucose, levels, ,, body, mass, index, (, BMI, ), ,, high, density, lipid, (, HDL, ), ,, low, density, lipid, (, LDL, ), and, triglycerides, levels, .]</td>\n",
       "      <td>[11, 12, 0, 7, 2, 12, 7, 1, 0, 0, 7, 3, 0, 1, 0, 4, 0, 0, 11, 7, 10, 2, 15, 12, 7, 7, 7, 12, 7, 7, 7, 12, 11, 12, 12, 0, 7, 7, 12, 11, 12, 12, 0, 7, 7, 12, 11, 12, 4, 7, 7, 12]</td>\n",
       "      <td>[B-AC, B-O, B-LF, I-LF, B-O, B-O, B-O, B-O, B-O, B-O, B-O, B-O, B-O, B-O, B-O, B-O, B-O, B-O, B-AC, B-O, B-O, B-O, B-O, B-O, B-O, B-O, B-O, B-O, B-LF, I-LF, I-LF, B-O, B-AC, B-O, B-O, B-LF, I-LF, I-LF, B-O, B-AC, B-O, B-O, B-LF, I-LF, I-LF, B-O, B-AC, B-O, B-O, B-O, B-O, B-O]</td>\n",
       "    </tr>\n",
       "    <tr>\n",
       "      <th>4</th>\n",
       "      <td>[BMI, ,, body, mass, index, ;, HR, ,, hazard, ratio, ;, SD, ,, standard, deviation, .]</td>\n",
       "      <td>[11, 12, 7, 7, 7, 12, 11, 12, 7, 7, 12, 11, 12, 0, 7, 12]</td>\n",
       "      <td>[B-AC, B-O, B-LF, I-LF, I-LF, B-O, B-AC, B-O, B-LF, I-LF, B-O, B-AC, B-O, B-LF, I-LF, B-O]</td>\n",
       "    </tr>\n",
       "  </tbody>\n",
       "</table>"
      ],
      "text/plain": [
       "<IPython.core.display.HTML object>"
      ]
     },
     "metadata": {},
     "output_type": "display_data"
    }
   ],
   "source": [
    "# Lets display the dataset to see the changes\n",
    "display_random_rows(plod_cw['train'])"
   ]
  },
  {
   "cell_type": "markdown",
   "id": "71da541a-7bc4-40b3-a260-df64a919fc9e",
   "metadata": {},
   "source": [
    "## Extraction and Concatenation\n",
    "Now that we have aligned the features in our dataset, lets move on to extracting data from PLOD-Filtered and concatenate with PLOD-CW.\n",
    "\n",
    "Before extraction, I have to avoid duplication to ensure data integrity. For this I have to remove rows from PLOD-Filtered that are already present in PLOD-CW. For this, I decided to add tuple representation to each entry to ensure uniqueness. Further explanation on why I did so is explained in the report."
   ]
  },
  {
   "cell_type": "markdown",
   "id": "1edd1a26-46a5-484b-8a32-b7e50ff9addc",
   "metadata": {},
   "source": [
    "### Adding Tuple Representation"
   ]
  },
  {
   "cell_type": "code",
   "execution_count": 35,
   "id": "f4dc9bf1-14ae-440a-88ce-54bbb1e89c5d",
   "metadata": {},
   "outputs": [],
   "source": [
    "# Function to add tuple representation to each entry\n",
    "def add_tuple_representation(example):\n",
    "    if isinstance(example['tokens'], list):\n",
    "        example['tokens_tuple'] = tuple(example['tokens'])\n",
    "    return example\n",
    "\n",
    "# Apply the function to the plod_filtered dataset\n",
    "plod_filtered = plod_filtered.map(add_tuple_representation)"
   ]
  },
  {
   "cell_type": "markdown",
   "id": "d02c915e-8c5d-427a-8e59-9092acef55ae",
   "metadata": {},
   "source": [
    "### Removing Duplicate Entries from PLOD-Filtered"
   ]
  },
  {
   "cell_type": "code",
   "execution_count": 36,
   "id": "1968f46f-3051-4f4e-b137-7b13731ac9a5",
   "metadata": {},
   "outputs": [],
   "source": [
    "# Collect tokens tuples from plod_cw\n",
    "plod_cw_tuples = set()\n",
    "for split in plod_cw.values():\n",
    "    for example in split:\n",
    "        if isinstance(example['tokens'], list):\n",
    "            plod_cw_tuples.add(tuple(example['tokens']))\n",
    "\n",
    "# Filter out duplicates based on the new tuple field\n",
    "filtered_dataset = plod_filtered.filter(lambda example: 'tokens_tuple' in example and tuple(example['tokens']) not in plod_cw_tuples)"
   ]
  },
  {
   "cell_type": "code",
   "execution_count": 37,
   "id": "00d63028-1eea-4d58-892a-ebaff97d52ca",
   "metadata": {},
   "outputs": [],
   "source": [
    "# Shuffle and save the dataset\n",
    "filtered_dataset = filtered_dataset.shuffle(seed=42)\n",
    "#filtered_dataset.save_to_disk('C:/Users/naima/OneDrive/Documents/CW-NLP/datasets/Filtered_PLOD')"
   ]
  },
  {
   "cell_type": "markdown",
   "id": "dd3888a6-4db5-4194-a78b-7ba277112fff",
   "metadata": {},
   "source": [
    "### Function to Extract Subset"
   ]
  },
  {
   "cell_type": "code",
   "execution_count": 38,
   "id": "67279d09-7f52-4e68-8762-ba49e7b659d8",
   "metadata": {},
   "outputs": [],
   "source": [
    "def extract_subset(dataset, subset_size, seed=42):\n",
    "    subset = dataset.train_test_split(test_size=subset_size, seed=seed)['test']\n",
    "    return subset"
   ]
  },
  {
   "cell_type": "markdown",
   "id": "d6e1dabd-571a-4975-9ca9-857ff601e315",
   "metadata": {},
   "source": [
    "## Load RoBERTa Tokenizer and Model"
   ]
  },
  {
   "cell_type": "code",
   "execution_count": 39,
   "id": "c0b41446-0d15-4bd7-9847-12cf87042eff",
   "metadata": {},
   "outputs": [],
   "source": [
    "# Load tokenizer\n",
    "model_checkpoint = 'roberta-base'\n",
    "tokenizer = RobertaTokenizerFast.from_pretrained(model_checkpoint, add_prefix_space=True)"
   ]
  },
  {
   "cell_type": "code",
   "execution_count": 40,
   "id": "bdbe6374-e23a-4bf3-97f2-6778df6fe012",
   "metadata": {},
   "outputs": [
    {
     "name": "stderr",
     "output_type": "stream",
     "text": [
      "Some weights of RobertaForTokenClassification were not initialized from the model checkpoint at roberta-base and are newly initialized: ['classifier.bias', 'classifier.weight']\n",
      "You should probably TRAIN this model on a down-stream task to be able to use it for predictions and inference.\n"
     ]
    }
   ],
   "source": [
    "# Load Model\n",
    "model = AutoModelForTokenClassification.from_pretrained(model_checkpoint, num_labels=5)"
   ]
  },
  {
   "cell_type": "code",
   "execution_count": 41,
   "id": "da8a682e-3959-4105-bcd3-ab3aada276da",
   "metadata": {},
   "outputs": [
    {
     "data": {
      "text/plain": [
       "RobertaForTokenClassification(\n",
       "  (roberta): RobertaModel(\n",
       "    (embeddings): RobertaEmbeddings(\n",
       "      (word_embeddings): Embedding(50265, 768, padding_idx=1)\n",
       "      (position_embeddings): Embedding(514, 768, padding_idx=1)\n",
       "      (token_type_embeddings): Embedding(1, 768)\n",
       "      (LayerNorm): LayerNorm((768,), eps=1e-05, elementwise_affine=True)\n",
       "      (dropout): Dropout(p=0.1, inplace=False)\n",
       "    )\n",
       "    (encoder): RobertaEncoder(\n",
       "      (layer): ModuleList(\n",
       "        (0-11): 12 x RobertaLayer(\n",
       "          (attention): RobertaAttention(\n",
       "            (self): RobertaSelfAttention(\n",
       "              (query): Linear(in_features=768, out_features=768, bias=True)\n",
       "              (key): Linear(in_features=768, out_features=768, bias=True)\n",
       "              (value): Linear(in_features=768, out_features=768, bias=True)\n",
       "              (dropout): Dropout(p=0.1, inplace=False)\n",
       "            )\n",
       "            (output): RobertaSelfOutput(\n",
       "              (dense): Linear(in_features=768, out_features=768, bias=True)\n",
       "              (LayerNorm): LayerNorm((768,), eps=1e-05, elementwise_affine=True)\n",
       "              (dropout): Dropout(p=0.1, inplace=False)\n",
       "            )\n",
       "          )\n",
       "          (intermediate): RobertaIntermediate(\n",
       "            (dense): Linear(in_features=768, out_features=3072, bias=True)\n",
       "            (intermediate_act_fn): GELUActivation()\n",
       "          )\n",
       "          (output): RobertaOutput(\n",
       "            (dense): Linear(in_features=3072, out_features=768, bias=True)\n",
       "            (LayerNorm): LayerNorm((768,), eps=1e-05, elementwise_affine=True)\n",
       "            (dropout): Dropout(p=0.1, inplace=False)\n",
       "          )\n",
       "        )\n",
       "      )\n",
       "    )\n",
       "  )\n",
       "  (dropout): Dropout(p=0.1, inplace=False)\n",
       "  (classifier): Linear(in_features=768, out_features=5, bias=True)\n",
       ")"
      ]
     },
     "execution_count": 41,
     "metadata": {},
     "output_type": "execute_result"
    }
   ],
   "source": [
    "torch.cuda.empty_cache()\n",
    "device = torch.device(\"cuda\" if torch.cuda.is_available() else \"cpu\")\n",
    "model.to(device)"
   ]
  },
  {
   "cell_type": "code",
   "execution_count": 42,
   "id": "4b207308-c091-40b4-8ecf-63fb8c4f15a3",
   "metadata": {},
   "outputs": [],
   "source": [
    "data_collator = DataCollatorForTokenClassification(tokenizer)"
   ]
  },
  {
   "cell_type": "markdown",
   "id": "5a5f707f-3a5c-4d7c-851c-f626104089e1",
   "metadata": {},
   "source": [
    "## Function to Tokenize and Align Labels"
   ]
  },
  {
   "cell_type": "code",
   "execution_count": 43,
   "id": "f5f2448a-bb1c-42ec-9e28-7a929a6ccaab",
   "metadata": {},
   "outputs": [],
   "source": [
    "# Function to tokenize the inputs\n",
    "def tokenize_and_align_labels(examples):\n",
    "    tokenized_inputs = tokenizer(examples['tokens'], truncation=True, padding=True, is_split_into_words=True)\n",
    "    labels = [] # Empty list to store labels for all tokenized inputs\n",
    "    for i, label in enumerate(examples['ner_tags']):\n",
    "        word_ids = tokenized_inputs.word_ids(batch_index=i) # Map tokens to their word ids\n",
    "        previous_word_idx = None\n",
    "        label_ids = []\n",
    "        # Assign label to each token\n",
    "        for word_idx in word_ids:\n",
    "            if word_idx is None:\n",
    "                label_ids.append(-100) # Assigning -100 as ignore index for special tokens\n",
    "            elif word_idx != previous_word_idx:\n",
    "                # Start of a new word, assign label\n",
    "                label_ids.append(label_encoding.get(label[word_idx]))\n",
    "            else:\n",
    "                # No increment needed, just append the label ID\n",
    "                label_ids.append(label_encoding.get(label[word_idx]))\n",
    "            previous_word_idx = word_idx\n",
    "        labels.append(label_ids) # Append preprocessed labels for the input\n",
    "    tokenized_inputs['labels'] = labels # Add labels in tokenized inputs\n",
    "    return tokenized_inputs # Return tokenized input with labels"
   ]
  },
  {
   "cell_type": "code",
   "execution_count": 44,
   "id": "081df4aa-c968-46fb-8219-3f20dac2aa4f",
   "metadata": {},
   "outputs": [],
   "source": [
    "# Tokenizer returns the dataset in the form of a dictionary of lists (sentences). \n",
    "# we have to convert it into a list of dictionaries for training.\n",
    "def turn_dict_to_list_of_dict(d):\n",
    "    new_list = []\n",
    "\n",
    "    for labels, inputs in zip(d[\"labels\"], d[\"input_ids\"]):\n",
    "        entry = {\"input_ids\": inputs, \"labels\": labels}\n",
    "        new_list.append(entry)\n",
    "\n",
    "    return new_list"
   ]
  },
  {
   "cell_type": "markdown",
   "id": "9d8ba615-529e-4c65-839f-395e3163d7a8",
   "metadata": {},
   "source": [
    "## Metric Computation Function"
   ]
  },
  {
   "cell_type": "code",
   "execution_count": 45,
   "id": "b7f93642-7889-4934-aa29-3626dc8d6afa",
   "metadata": {},
   "outputs": [],
   "source": [
    "metric = load_metric(\"seqeval\")\n",
    "def compute_metrics(p):\n",
    "    predictions, labels = p\n",
    "    predictions = np.argmax(predictions, axis=2)\n",
    "\n",
    "    # Remove ignored index (special tokens)\n",
    "    true_predictions = [\n",
    "        [label_list[p] for (p, l) in zip(prediction, label) if l != -100]\n",
    "        for prediction, label in zip(predictions, labels)\n",
    "    ]\n",
    "    true_labels = [\n",
    "        [label_list[l] for (p, l) in zip(prediction, label) if l != -100]\n",
    "        for prediction, label in zip(predictions, labels)\n",
    "    ]\n",
    "\n",
    "    results = metric.compute(predictions=true_predictions, references=true_labels)\n",
    "    return {\n",
    "        \"precision\": results[\"overall_precision\"],\n",
    "        \"recall\": results[\"overall_recall\"],\n",
    "        \"f1\": results[\"overall_f1\"],\n",
    "        \"accuracy\": results[\"overall_accuracy\"],\n",
    "    }"
   ]
  },
  {
   "cell_type": "markdown",
   "id": "3a5baeae-12ed-4dc2-8772-bbcee5d78585",
   "metadata": {},
   "source": [
    "## Defining Loss Function"
   ]
  },
  {
   "cell_type": "code",
   "execution_count": 46,
   "id": "769b4b64-22dc-4cf0-a377-7ca015938436",
   "metadata": {},
   "outputs": [],
   "source": [
    "class LabelSmoothingCrossEntropy(nn.Module):\n",
    "    def __init__(self, smoothing):\n",
    "        super(LabelSmoothingCrossEntropy, self).__init__()\n",
    "        self.smoothing = smoothing  # Initialize the smoothing factor\n",
    "\n",
    "    def forward(self, input, target):\n",
    "        # Create a mask for valid labels (labels not equal to -100)\n",
    "        valid_labels_mask = target != -100\n",
    "\n",
    "        # Apply mask to filter out invalid labels and logits\n",
    "        target = target[valid_labels_mask]\n",
    "        input = input[valid_labels_mask]\n",
    "\n",
    "        # Ensure there are valid labels left after masking\n",
    "        if len(target) == 0:\n",
    "            return torch.tensor(0.0).to(input.device)  # Return 0 loss if no valid labels\n",
    "\n",
    "        # Compute log probabilities\n",
    "        log_prob = nn.functional.log_softmax(input, dim=-1)\n",
    "\n",
    "        # Compute weights for label smoothing\n",
    "        weight = input.new_ones(input.size(-1)) * self.smoothing / (input.size(-1) - 1.)\n",
    "        weight = weight.repeat(input.size(0), 1)  # Repeat weight for each example in the batch\n",
    "        weight.scatter_(-1, target.unsqueeze(-1), (1. - self.smoothing))\n",
    "\n",
    "        # Compute the loss\n",
    "        loss = (-weight * log_prob).sum(dim=-1).mean()\n",
    "        return loss\n",
    "\n",
    "# Initialize the criterion with label smoothing factor\n",
    "criterion = LabelSmoothingCrossEntropy(smoothing=0.1)"
   ]
  },
  {
   "cell_type": "markdown",
   "id": "1540d513-aa60-4d43-bef5-9aacb6648f6e",
   "metadata": {},
   "source": [
    "## Initializing a Custom Trainer"
   ]
  },
  {
   "cell_type": "code",
   "execution_count": 47,
   "id": "41d150a9-5936-4aba-ba08-bcddf26ad8ca",
   "metadata": {},
   "outputs": [],
   "source": [
    "class CustomTrainer(Trainer):\n",
    "    def __init__(self, *args, loss_fn=None, **kwargs):\n",
    "        super().__init__(*args, **kwargs)\n",
    "        self.loss_fn = loss_fn\n",
    "\n",
    "    def compute_loss(self, model, inputs, return_outputs=False):\n",
    "        labels = inputs.pop(\"labels\")\n",
    "        outputs = model(**inputs)\n",
    "        logits = outputs.get('logits')\n",
    "        loss = self.loss_fn(logits, labels)\n",
    "        return (loss, outputs) if return_outputs else loss"
   ]
  },
  {
   "cell_type": "markdown",
   "id": "0dcdbc4d-7cb4-4b77-a82f-60c3e97e7e63",
   "metadata": {},
   "source": [
    "## Setting up Training Arguments"
   ]
  },
  {
   "cell_type": "code",
   "execution_count": 48,
   "id": "a97b6dfd-a9d5-467c-b62c-fc4709ec9d4b",
   "metadata": {},
   "outputs": [],
   "source": [
    "# Define training arguments\n",
    "epochs = 3\n",
    "batch_size = 10\n",
    "learning_rate = 2e-5\n",
    "\n",
    "training_args = TrainingArguments(\n",
    "    output_dir='./results', # Directory to save output files\n",
    "    evaluation_strategy='steps', # Evaluating model every eval_step\n",
    "    eval_steps=1000, # Number of steps to run evaluation\n",
    "    save_total_limit = 3, # Max number of models to save\n",
    "    learning_rate=learning_rate, # Learning rate for the optimizer\n",
    "    per_device_train_batch_size=batch_size, \n",
    "    per_device_eval_batch_size=batch_size,\n",
    "    num_train_epochs=epochs, # Number of training epochs\n",
    "    weight_decay=0.01, # Weight decay for regularization\n",
    "    save_steps=5000, # Saving model every 5k steps\n",
    "    metric_for_best_model = 'f1', # Metric to evaluate the best model\n",
    "    load_best_model_at_end=True # Load the best model post training\n",
    ")"
   ]
  },
  {
   "cell_type": "markdown",
   "id": "19f0da56-3e24-43f9-8461-d373beffa35e",
   "metadata": {},
   "source": [
    "# System 1: Training only on PLOD-CW\n",
    "Since I have already implemented this system in Experiment 2, I will use the same to compare the other systems to see if additonal instances improve the model performance.\n",
    "\n",
    "Link to [Train only on PLOD-CW with Label Smoothing](EXPERIMENT-2.ipynb)"
   ]
  },
  {
   "cell_type": "markdown",
   "id": "3d7b0e99-eb29-4cd8-965f-a6a251614e50",
   "metadata": {},
   "source": [
    "# System 2: 1% Additional Train/Validate from PLOD-Filtered + PLOD-CW"
   ]
  },
  {
   "cell_type": "markdown",
   "id": "25501262-b406-4522-923e-ddbc025e8195",
   "metadata": {},
   "source": [
    "## Extraction and Concatenation"
   ]
  },
  {
   "cell_type": "code",
   "execution_count": 49,
   "id": "2ea66af5-75a1-4ad6-b651-3e138b443fe2",
   "metadata": {},
   "outputs": [],
   "source": [
    "# Extract 1% of the training and validation split\n",
    "train_subset = extract_subset(filtered_dataset['train'], 0.01)\n",
    "validation_subset = extract_subset(filtered_dataset['validation'], 0.01)\n",
    "\n",
    "# Concatenate the train_subset and validation_subset with the PLOD-CW train and val dataset\n",
    "train_dataset_combined = concatenate_datasets([plod_cw['train'], train_subset])\n",
    "val_dataset_combined = concatenate_datasets([plod_cw['validation'], validation_subset])"
   ]
  },
  {
   "cell_type": "markdown",
   "id": "58a88f20-ef09-465b-bc3c-a6349a60d6ed",
   "metadata": {},
   "source": [
    "## Tokenizing the Concatenated Dataset"
   ]
  },
  {
   "cell_type": "code",
   "execution_count": 50,
   "id": "823675a6-c6b7-46e2-866b-df27031f7d8d",
   "metadata": {},
   "outputs": [],
   "source": [
    "train_combined_tokenized = tokenize_and_align_labels(train_dataset_combined)\n",
    "val_combined_tokenized = tokenize_and_align_labels(val_dataset_combined)"
   ]
  },
  {
   "cell_type": "code",
   "execution_count": 51,
   "id": "fe97e166-48ad-4dcc-9aed-3af2a2ced96b",
   "metadata": {},
   "outputs": [],
   "source": [
    "train_combined_tokenized=turn_dict_to_list_of_dict(train_combined_tokenized)\n",
    "val_combined_tokenized=turn_dict_to_list_of_dict(val_combined_tokenized)"
   ]
  },
  {
   "cell_type": "markdown",
   "id": "80c089f1-49f5-403e-a514-fa91029fe9e7",
   "metadata": {},
   "source": [
    "## Train the Model"
   ]
  },
  {
   "cell_type": "code",
   "execution_count": 52,
   "id": "dc1961f5-266d-46db-b007-f84e1229bf1b",
   "metadata": {},
   "outputs": [],
   "source": [
    "# initialize trainer\n",
    "trainer = CustomTrainer(\n",
    "    model=model,\n",
    "    args=training_args,\n",
    "    train_dataset=train_combined_tokenized,\n",
    "    eval_dataset=val_combined_tokenized,\n",
    "    data_collator=data_collator,\n",
    "    tokenizer=tokenizer,\n",
    "    compute_metrics=compute_metrics,\n",
    "    callbacks = [EarlyStoppingCallback(early_stopping_patience=3)],\n",
    "    loss_fn=criterion # Label Smoothing Loss Function\n",
    ")\n"
   ]
  },
  {
   "cell_type": "code",
   "execution_count": null,
   "id": "40f23063-69d6-4a14-8299-3885a965a231",
   "metadata": {},
   "outputs": [
    {
     "name": "stderr",
     "output_type": "stream",
     "text": [
      "\u001b[34m\u001b[1mwandb\u001b[0m: Currently logged in as: \u001b[33mnaima99rashid\u001b[0m (\u001b[33muniversity-of-surrey\u001b[0m). Use \u001b[1m`wandb login --relogin`\u001b[0m to force relogin\n"
     ]
    },
    {
     "data": {
      "text/html": [
       "wandb version 0.17.0 is available!  To upgrade, please run:\n",
       " $ pip install wandb --upgrade"
      ],
      "text/plain": [
       "<IPython.core.display.HTML object>"
      ]
     },
     "metadata": {},
     "output_type": "display_data"
    },
    {
     "data": {
      "text/html": [
       "Tracking run with wandb version 0.16.6"
      ],
      "text/plain": [
       "<IPython.core.display.HTML object>"
      ]
     },
     "metadata": {},
     "output_type": "display_data"
    },
    {
     "data": {
      "text/html": [
       "Run data is saved locally in <code>C:\\Users\\naima\\Downloads\\6844356_Naima_Rashid_COMM061_CodeFile\\6844356-NLP-COMM061-CodeFile\\wandb\\run-20240521_151500-m9c9hu7b</code>"
      ],
      "text/plain": [
       "<IPython.core.display.HTML object>"
      ]
     },
     "metadata": {},
     "output_type": "display_data"
    },
    {
     "data": {
      "text/html": [
       "Syncing run <strong><a href='https://wandb.ai/university-of-surrey/huggingface/runs/m9c9hu7b' target=\"_blank\">azure-dew-47</a></strong> to <a href='https://wandb.ai/university-of-surrey/huggingface' target=\"_blank\">Weights & Biases</a> (<a href='https://wandb.me/run' target=\"_blank\">docs</a>)<br/>"
      ],
      "text/plain": [
       "<IPython.core.display.HTML object>"
      ]
     },
     "metadata": {},
     "output_type": "display_data"
    },
    {
     "data": {
      "text/html": [
       " View project at <a href='https://wandb.ai/university-of-surrey/huggingface' target=\"_blank\">https://wandb.ai/university-of-surrey/huggingface</a>"
      ],
      "text/plain": [
       "<IPython.core.display.HTML object>"
      ]
     },
     "metadata": {},
     "output_type": "display_data"
    },
    {
     "data": {
      "text/html": [
       " View run at <a href='https://wandb.ai/university-of-surrey/huggingface/runs/m9c9hu7b' target=\"_blank\">https://wandb.ai/university-of-surrey/huggingface/runs/m9c9hu7b</a>"
      ],
      "text/plain": [
       "<IPython.core.display.HTML object>"
      ]
     },
     "metadata": {},
     "output_type": "display_data"
    },
    {
     "data": {
      "text/html": [
       "\n",
       "    <div>\n",
       "      \n",
       "      <progress value='5' max='660' style='width:300px; height:20px; vertical-align: middle;'></progress>\n",
       "      [  5/660 03:56 < 14:21:43, 0.01 it/s, Epoch 0.02/3]\n",
       "    </div>\n",
       "    <table border=\"1\" class=\"dataframe\">\n",
       "  <thead>\n",
       " <tr style=\"text-align: left;\">\n",
       "      <th>Step</th>\n",
       "      <th>Training Loss</th>\n",
       "      <th>Validation Loss</th>\n",
       "    </tr>\n",
       "  </thead>\n",
       "  <tbody>\n",
       "  </tbody>\n",
       "</table><p>"
      ],
      "text/plain": [
       "<IPython.core.display.HTML object>"
      ]
     },
     "metadata": {},
     "output_type": "display_data"
    }
   ],
   "source": [
    "# Train the model\n",
    "trainer.train()"
   ]
  },
  {
   "cell_type": "code",
   "execution_count": null,
   "id": "94a93bc0-8d1c-426c-baf9-19569a93f249",
   "metadata": {},
   "outputs": [],
   "source": [
    "model.save_pretrained('C:/Users/naima/OneDrive/Documents/CW-NLP/roberta-base-model')\n",
    "print(\"Model Saved.\")"
   ]
  },
  {
   "cell_type": "markdown",
   "id": "08b75332-dbf4-46a9-a749-45373ebb1c3d",
   "metadata": {},
   "source": [
    "## Evaluating on Validation Set"
   ]
  },
  {
   "cell_type": "code",
   "execution_count": 39,
   "id": "d51c45a9-ff48-43c4-8062-8596346eeb5d",
   "metadata": {},
   "outputs": [
    {
     "data": {
      "text/html": [],
      "text/plain": [
       "<IPython.core.display.HTML object>"
      ]
     },
     "metadata": {},
     "output_type": "display_data"
    },
    {
     "name": "stdout",
     "output_type": "stream",
     "text": [
      "Evaluation Results: {'eval_loss': 0.5681433081626892, 'eval_precision': 0.9523636363636364, 'eval_recall': 0.9447565060551404, 'eval_f1': 0.948544819557625, 'eval_accuracy': 0.9442232963700123, 'eval_runtime': 29.4916, 'eval_samples_per_second': 12.41, 'eval_steps_per_second': 1.255, 'epoch': 3.0}\n"
     ]
    }
   ],
   "source": [
    "evaluation_results = trainer.evaluate()\n",
    "\n",
    "print('Evaluation Results:', evaluation_results)"
   ]
  },
  {
   "cell_type": "markdown",
   "id": "bf8dd141-34b0-4261-8a4b-4223556a420f",
   "metadata": {},
   "source": [
    "## Obtain Predictions on PLOD-CW Test Set"
   ]
  },
  {
   "cell_type": "code",
   "execution_count": 40,
   "id": "186bb944-5ce5-4a99-b882-776f9211f18b",
   "metadata": {},
   "outputs": [
    {
     "data": {
      "application/vnd.jupyter.widget-view+json": {
       "model_id": "ed74cc5bac044fd49bc34450120eea69",
       "version_major": 2,
       "version_minor": 0
      },
      "text/plain": [
       "Map:   0%|          | 0/1072 [00:00<?, ? examples/s]"
      ]
     },
     "metadata": {},
     "output_type": "display_data"
    },
    {
     "data": {
      "application/vnd.jupyter.widget-view+json": {
       "model_id": "0aa467df727e4429a73d3450aee1e1d0",
       "version_major": 2,
       "version_minor": 0
      },
      "text/plain": [
       "Map:   0%|          | 0/126 [00:00<?, ? examples/s]"
      ]
     },
     "metadata": {},
     "output_type": "display_data"
    },
    {
     "data": {
      "application/vnd.jupyter.widget-view+json": {
       "model_id": "91c8ecd877ee44ebb49920b31bedce4f",
       "version_major": 2,
       "version_minor": 0
      },
      "text/plain": [
       "Map:   0%|          | 0/153 [00:00<?, ? examples/s]"
      ]
     },
     "metadata": {},
     "output_type": "display_data"
    }
   ],
   "source": [
    "plod_tokenized = plod_cw.map(tokenize_and_align_labels, batched=True)"
   ]
  },
  {
   "cell_type": "code",
   "execution_count": 62,
   "id": "82aebc20-6a54-4030-9e8d-208360900616",
   "metadata": {},
   "outputs": [
    {
     "data": {
      "text/plain": [
       "{'AC': {'precision': 0.8917431192660551,\n",
       "  'recall': 0.8694096601073346,\n",
       "  'f1': 0.8804347826086957,\n",
       "  'number': 559},\n",
       " 'LF': {'precision': 0.7873015873015873,\n",
       "  'recall': 0.8551724137931035,\n",
       "  'f1': 0.8198347107438017,\n",
       "  'number': 290},\n",
       " 'O': {'precision': 0.9798193349990391,\n",
       "  'recall': 0.9666287447857413,\n",
       "  'f1': 0.9731793452324139,\n",
       "  'number': 5274},\n",
       " 'overall_precision': 0.9619000494804553,\n",
       " 'overall_recall': 0.9524742773150416,\n",
       " 'overall_f1': 0.9571639586410635,\n",
       " 'overall_accuracy': 0.9534562211981567}"
      ]
     },
     "execution_count": 62,
     "metadata": {},
     "output_type": "execute_result"
    }
   ],
   "source": [
    "# Prepare the test data for evaluation in the same format as the training data\n",
    "predictions, labels, _ = trainer.predict(plod_tokenized['test'])\n",
    "predictions = np.argmax(predictions, axis=2)\n",
    "\n",
    "# Remove the predictions for the [CLS] and [SEP] tokens \n",
    "true_predictions = [\n",
    "    [label_list[p] for (p, l) in zip(prediction, label) if l != -100]\n",
    "    for prediction, label in zip(predictions, labels)\n",
    "]\n",
    "true_labels = [\n",
    "    [label_list[l] for (p, l) in zip(prediction, label) if l != -100]\n",
    "    for prediction, label in zip(predictions, labels)\n",
    "]\n",
    "\n",
    "# Compute multiple metrics on the test restuls\n",
    "results = metric.compute(predictions=true_predictions, references=true_labels)\n",
    "results"
   ]
  },
  {
   "cell_type": "code",
   "execution_count": 63,
   "id": "0a1e0910-e681-4151-8e67-ddf2e7499210",
   "metadata": {},
   "outputs": [],
   "source": [
    "# Flatten the true_labels and true_predictions\n",
    "true_labels_flat = [item for sublist in true_labels for item in sublist]\n",
    "true_predictions_flat = [item for sublist in true_predictions for item in sublist]"
   ]
  },
  {
   "cell_type": "code",
   "execution_count": 64,
   "id": "437d9aa0-3be6-4312-ad46-a22bd8ac0e4d",
   "metadata": {},
   "outputs": [],
   "source": [
    "# Obtaning the lengths of the original sequences\n",
    "lengths_of_original_sequences = [len(seq) for seq in true_labels]\n",
    "\n",
    "# Reshaping true_labels_flat and true_predictions_flat into lists of lists\n",
    "true_labels_nested = []\n",
    "true_predictions_nested = []\n",
    "\n",
    "# Iterating over the lengths of the original sequences\n",
    "idx = 0\n",
    "for length in lengths_of_original_sequences:\n",
    "    true_labels_nested.append(true_labels_flat[idx : idx + length])\n",
    "    true_predictions_nested.append(true_predictions_flat[idx : idx + length])\n",
    "    idx += length"
   ]
  },
  {
   "cell_type": "markdown",
   "id": "7d7b7c8e-1633-4e55-8ef1-720fad1cf1f8",
   "metadata": {},
   "source": [
    "## Generating Classification Report"
   ]
  },
  {
   "cell_type": "code",
   "execution_count": 65,
   "id": "423852e1-fa2a-4e3f-8412-9c0240982b96",
   "metadata": {},
   "outputs": [
    {
     "name": "stdout",
     "output_type": "stream",
     "text": [
      "Classification Report:\n",
      "              precision    recall  f1-score   support\n",
      "\n",
      "          AC       0.89      0.87      0.88       559\n",
      "          LF       0.79      0.86      0.82       290\n",
      "           O       0.98      0.97      0.97      5274\n",
      "\n",
      "   micro avg       0.96      0.95      0.96      6123\n",
      "   macro avg       0.89      0.90      0.89      6123\n",
      "weighted avg       0.96      0.95      0.96      6123\n",
      "\n"
     ]
    }
   ],
   "source": [
    "# Compute classification report\n",
    "report = seqeval_classification_report(true_labels_nested, true_predictions_nested)\n",
    "\n",
    "# Print classification report\n",
    "print(\"Classification Report:\")\n",
    "print(report)"
   ]
  },
  {
   "cell_type": "markdown",
   "id": "e7f1e9f8-41a6-4e8d-953a-6acdc4e12c3c",
   "metadata": {},
   "source": [
    "## Error Analysis"
   ]
  },
  {
   "cell_type": "markdown",
   "id": "e26e18d6-61ad-42ab-b64d-88446884121c",
   "metadata": {},
   "source": [
    "### Plotting Confusion Matrix"
   ]
  },
  {
   "cell_type": "code",
   "execution_count": 66,
   "id": "a79efa83-7907-4fb5-99d4-21e5c317ea0d",
   "metadata": {},
   "outputs": [
    {
     "data": {
      "image/png": "[encoded data removed]",
      "text/plain": [
       "<Figure size 1000x1000 with 2 Axes>"
      ]
     },
     "metadata": {},
     "output_type": "display_data"
    }
   ],
   "source": [
    "def plot_cm(y_true, y_pred, color, figsize=(10,10)):\n",
    "    cm = confusion_matrix(y_true, y_pred, labels=np.unique(y_true))\n",
    "    cm_sum = np.sum(cm, axis=1, keepdims=True)\n",
    "    cm_perc = cm / cm_sum.astype(float) * 100\n",
    "    annot = np.empty_like(cm).astype(str)\n",
    "    nrows, ncols = cm.shape\n",
    "    for i in range(nrows):\n",
    "        for j in range(ncols):\n",
    "            c = cm[i, j]\n",
    "            p = cm_perc[i, j]\n",
    "            if i == j:\n",
    "                s = cm_sum[i]\n",
    "                annot[i, j] = '%.1f%%\\n%d/%d' % (p, c, s)\n",
    "            elif c == 0:\n",
    "                annot[i, j] = '0%'\n",
    "            else:\n",
    "                annot[i, j] = '%.1f%%\\n%d' % (p, c)\n",
    "    cm = pd.DataFrame(cm, index=np.unique(y_true), columns=np.unique(y_true))\n",
    "    cm.index.name = 'Actual'\n",
    "    cm.columns.name = 'Predicted'\n",
    "    fig, ax = plt.subplots(figsize=figsize)\n",
    "    sns.heatmap(cm, cmap= color, annot=annot, fmt='', ax=ax)\n",
    "\n",
    "    # Loop through all cells to ensure each one is annotated\n",
    "    for i in range(nrows):\n",
    "        for j in range(ncols):\n",
    "            plt.text(j+0.5, i+0.5, annot[i, j], ha='center', va='center', color='black')\n",
    "\n",
    "    #plt.savefig('Exp1-cm.png')\n",
    "    plt.show()\n",
    "\n",
    "plot_cm(true_labels_flat, true_predictions_flat, color=\"YlGnBu\")"
   ]
  },
  {
   "cell_type": "markdown",
   "id": "12e881d3-296c-466d-9e17-af9be545dee5",
   "metadata": {},
   "source": [
    "### Calculating Error Types"
   ]
  },
  {
   "cell_type": "code",
   "execution_count": 67,
   "id": "08440601-8a93-4ca2-97d1-f6970dfa396e",
   "metadata": {},
   "outputs": [
    {
     "name": "stdout",
     "output_type": "stream",
     "text": [
      "False Positive\n",
      "  B-O: 105\n",
      "  B-AC: 59\n",
      "  I-LF: 87\n",
      "  B-LF: 52\n",
      "False Negative\n",
      "  B-O: 176\n",
      "  B-AC: 73\n",
      "  I-LF: 24\n",
      "  B-LF: 30\n",
      "True Positive\n",
      "  B-O: 5098\n",
      "  B-AC: 486\n",
      "  I-LF: 365\n",
      "  B-LF: 258\n",
      "True Negative\n",
      "  B-O: 1131\n",
      "  B-AC: 5892\n",
      "  I-LF: 6034\n",
      "  B-LF: 6170\n"
     ]
    }
   ],
   "source": [
    "def calculate_error_types(true_predictions_flat, true_labels_flat):\n",
    "    # Error types dictionary\n",
    "    error_types = {\n",
    "        'False Positive': {class_label: 0 for class_label in ['B-O', 'B-AC', 'I-LF', 'B-LF']},\n",
    "        'False Negative': {class_label: 0 for class_label in ['B-O', 'B-AC', 'I-LF', 'B-LF']},\n",
    "        'True Positive': {class_label: 0 for class_label in ['B-O', 'B-AC', 'I-LF', 'B-LF']},\n",
    "        'True Negative': {class_label: 0 for class_label in ['B-O', 'B-AC', 'I-LF', 'B-LF']}\n",
    "    }\n",
    "\n",
    "    # Iterate over each prediction and true label pair\n",
    "    for pred, true_label in zip(true_predictions_flat, true_labels_flat):\n",
    "        # Iterate over each tag\n",
    "        for class_label in ['B-O', 'B-AC', 'I-LF', 'B-LF']:\n",
    "            if pred == class_label and true_label == class_label:\n",
    "                error_types['True Positive'][class_label] += 1\n",
    "            elif pred == class_label and true_label != class_label:\n",
    "                error_types['False Positive'][class_label] += 1\n",
    "            elif pred != class_label and true_label == class_label:\n",
    "                error_types['False Negative'][class_label] += 1\n",
    "            elif pred != class_label and true_label != class_label:\n",
    "                error_types['True Negative'][class_label] += 1\n",
    "\n",
    "    return error_types\n",
    "\n",
    "\n",
    "def print_error_types(error_types):\n",
    "    for error_type, class_counts in error_types.items():\n",
    "        print(error_type)\n",
    "        for class_label, count in class_counts.items():\n",
    "            print(f\"  {class_label}: {count}\")\n",
    "\n",
    "\n",
    "error_types = calculate_error_types(true_predictions_flat, true_labels_flat)\n",
    "print_error_types(error_types)"
   ]
  },
  {
   "cell_type": "markdown",
   "id": "dc19e8c7-0fc5-45f7-a66a-8abea641b05f",
   "metadata": {},
   "source": [
    "### Visualizing Error Distribution"
   ]
  },
  {
   "cell_type": "code",
   "execution_count": 68,
   "id": "d51ee6aa-9834-47d6-b913-a8be12d952f1",
   "metadata": {},
   "outputs": [
    {
     "data": {
      "image/png": "[encoded data removed]",
      "text/plain": [
       "<Figure size 1000x600 with 1 Axes>"
      ]
     },
     "metadata": {},
     "output_type": "display_data"
    }
   ],
   "source": [
    "def visualize_error_types(error_types):\n",
    "    # Extract error types\n",
    "    false_positives = {k: v for k, v in error_types['False Positive'].items()}\n",
    "    false_negatives = {k: v for k, v in error_types['False Negative'].items()}\n",
    "    true_positives = {k: v for k, v in error_types['True Positive'].items()}\n",
    "    true_negatives = {k: v for k, v in error_types['True Negative'].items()}\n",
    "\n",
    "    # Get class labels\n",
    "    class_labels = list(false_positives.keys())\n",
    "\n",
    "    # Visualize error types with grouped bar chart\n",
    "    fig, ax = plt.subplots(figsize=(10, 6))\n",
    "    bar_width = 0.2\n",
    "    index = np.arange(len(class_labels))\n",
    "\n",
    "    # Plot bars for each error type\n",
    "    bars1 = ax.bar(index, false_positives.values(), bar_width, label='False Positive', color='red')\n",
    "    bars2 = ax.bar(index + bar_width, false_negatives.values(), bar_width, label='False Negative', color='blue')\n",
    "    bars3 = ax.bar(index + 2 * bar_width, true_positives.values(), bar_width, label='True Positive', color='green')\n",
    "    bars4 = ax.bar(index + 3 * bar_width, true_negatives.values(), bar_width, label='True Negative', color='orange')\n",
    "\n",
    "    ax.set_xlabel('NER Tag', fontsize=16)\n",
    "    ax.set_ylabel('Count', fontsize=16)\n",
    "    ax.set_title('Distribution of Error Types', fontsize=16)\n",
    "    ax.set_xticks(index + 1.5 * bar_width)\n",
    "    ax.set_xticklabels(class_labels, rotation=45, ha='right')\n",
    "    ax.legend()\n",
    "    plt.tight_layout()\n",
    "    plt.show()\n",
    "\n",
    "visualize_error_types(error_types)"
   ]
  }
 ],
 "metadata": {
  "kernelspec": {
   "display_name": "Python 3 (ipykernel)",
   "language": "python",
   "name": "python3"
  },
  "language_info": {
   "codemirror_mode": {
    "name": "ipython",
    "version": 3
   },
   "file_extension": ".py",
   "mimetype": "text/x-python",
   "name": "python",
   "nbconvert_exporter": "python",
   "pygments_lexer": "ipython3",
   "version": "3.11.8"
  }
 },
 "nbformat": 4,
 "nbformat_minor": 5
}
